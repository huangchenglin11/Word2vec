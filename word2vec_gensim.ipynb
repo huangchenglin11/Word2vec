{
 "cells": [
  {
   "cell_type": "code",
   "execution_count": 1,
   "id": "67cd54fd",
   "metadata": {},
   "outputs": [],
   "source": [
    "import pandas as pd\n",
    "import jieba\n",
    "from gensim.models.word2vec import Word2Vec"
   ]
  },
  {
   "cell_type": "code",
   "execution_count": 2,
   "id": "d6f4260a",
   "metadata": {},
   "outputs": [
    {
     "name": "stderr",
     "output_type": "stream",
     "text": [
      "Building prefix dict from the default dictionary ...\n",
      "Loading model from cache C:\\Users\\Administrator\\AppData\\Local\\Temp\\jieba.cache\n",
      "Loading model cost 1.755 seconds.\n",
      "Prefix dict has been built successfully.\n"
     ]
    }
   ],
   "source": [
    "# 读入训练集文件\n",
    "data = pd.read_csv('train.csv')\n",
    "# 转字符串数组\n",
    "corpus = data['comment'].values.astype(str)\n",
    "# 分词，再重组为字符串数组\n",
    "corpus = [jieba.lcut(corpus[index]\n",
    "                          .replace(\"，\", \"\")\n",
    "                          .replace(\"!\", \"\")\n",
    "                          .replace(\"！\", \"\")\n",
    "                          .replace(\"。\", \"\")\n",
    "                          .replace(\"~\", \"\")\n",
    "                          .replace(\"；\", \"\")\n",
    "                          .replace(\"？\", \"\")\n",
    "                          .replace(\"?\", \"\")\n",
    "                          .replace(\"【\", \"\")\n",
    "                          .replace(\"】\", \"\")\n",
    "                          .replace(\"#\", \"\")\n",
    "                        ) for index in range(len(corpus))]\n"
   ]
  },
  {
   "cell_type": "code",
   "execution_count": 4,
   "id": "9dca5084",
   "metadata": {},
   "outputs": [],
   "source": [
    "from gensim.models import Word2Vec\n",
    "import pandas as pd\n",
    "\n",
    "# 读取数据\n",
    "df = pd.read_csv('train.csv')\n",
    "sentences = df['comment'].str.split()\n",
    "\n",
    "# 使用Skip - Gram训练Word2Vec模型\n",
    "model = Word2Vec(sentences, min_count=1, sg=1)"
   ]
  },
  {
   "cell_type": "code",
   "execution_count": 5,
   "id": "0fea7925",
   "metadata": {},
   "outputs": [
    {
     "name": "stdout",
     "output_type": "stream",
     "text": [
      "词向量： [ 6.8324436e-03 -2.0276878e-03 -4.4317758e-03  5.7840784e-04\n",
      "  8.6168284e-03 -9.5443372e-03  7.8960489e-03 -6.0811359e-03\n",
      "  1.0754843e-03 -8.3091874e-03  7.4489908e-03 -2.9329760e-03\n",
      " -5.1979665e-03  7.0431982e-03 -4.0898686e-03  1.9853748e-03\n",
      " -6.0745156e-03  3.4084835e-03  4.6235183e-03 -9.0560615e-03\n",
      " -8.7898001e-03 -3.3490774e-03  6.9914822e-04 -2.2387328e-03\n",
      " -7.1216994e-03  9.7962655e-03  5.7372656e-03 -4.1672522e-03\n",
      " -1.4209810e-03 -7.5036781e-03 -4.5170980e-03 -8.8713560e-03\n",
      "  8.9286650e-03 -1.2419166e-03  7.4284854e-03 -3.7458627e-03\n",
      "  1.7482921e-04 -4.0554595e-03 -5.1126741e-03  5.2516541e-04\n",
      "  6.0403110e-03 -3.6650617e-04  6.2226774e-03  9.2206355e-03\n",
      "  6.7997007e-03 -7.6180212e-03 -4.5679440e-03 -4.1192081e-03\n",
      " -7.9307435e-03  2.0570119e-03  6.4557898e-03 -6.2905382e-03\n",
      "  3.1149911e-03  2.5804635e-04  6.6587576e-03  6.0288119e-03\n",
      " -1.9967051e-03 -5.6983791e-03  6.1229980e-03  8.1981514e-03\n",
      "  6.0429249e-04 -3.1578043e-04  9.4847213e-03  6.1368654e-03\n",
      " -9.9221021e-03 -7.8745112e-03 -1.5193311e-03  9.0523725e-03\n",
      " -1.2385595e-03 -6.2590982e-03 -7.1743946e-03  2.6703712e-03\n",
      "  1.2065079e-03 -2.8471386e-05 -1.8566642e-03  8.0338772e-03\n",
      " -8.9186663e-03  6.6359928e-03  6.4172340e-03 -3.3426548e-03\n",
      "  6.3151699e-03 -3.6918842e-03 -4.7602234e-03 -7.3904782e-03\n",
      "  4.0897443e-03 -6.0679172e-03 -4.5939973e-03 -2.6804851e-03\n",
      "  3.4459163e-03 -3.1561202e-03  8.6798463e-03  6.5865000e-03\n",
      "  7.9817837e-03  3.3631937e-03 -5.8551370e-03 -1.6907976e-03\n",
      "  2.9950920e-03  2.6784956e-03 -4.1479087e-03 -2.7090339e-03]\n",
      "词向量形状： (100,)\n"
     ]
    }
   ],
   "source": [
    "env_vector = model.wv['环境']\n",
    "print(\"词向量：\", env_vector)\n",
    "print(\"词向量形状：\", env_vector.shape)"
   ]
  },
  {
   "cell_type": "code",
   "execution_count": 6,
   "id": "08d9b325",
   "metadata": {},
   "outputs": [
    {
     "name": "stdout",
     "output_type": "stream",
     "text": [
      "词：#土豆泥#，相似度：0.38154304027557373\n",
      "词：中午十一点去吃的，菜品很多，味道也不错，限时两小时也够了，走的时候外面好多好多人在等到起的，幸亏去得早哦，吃饭后面菜都被抢空了，上菜稍微慢一点，相似度：0.3696599006652832\n",
      "词：菜品新鲜味道好，相似度：0.3440632224082947\n"
     ]
    }
   ],
   "source": [
    "similar_words = model.wv.most_similar('好吃', topn=3)\n",
    "for word, similarity in similar_words:\n",
    "    print(f\"词：{word}，相似度：{similarity}\")"
   ]
  },
  {
   "cell_type": "code",
   "execution_count": 8,
   "id": "3c339de5",
   "metadata": {},
   "outputs": [
    {
     "name": "stdout",
     "output_type": "stream",
     "text": [
      "'好吃' 或 '美味' 不在词典中，无法计算相似度。\n",
      "“好吃”和“蟑螂”的相似度： -0.011616319\n"
     ]
    }
   ],
   "source": [
    "if '好吃' in model.wv and '美味' in model.wv:\n",
    "    sim1 = model.wv.similarity('好吃', '美味')\n",
    "    print(\"“好吃”和“美味”的相似度：\", sim1)\n",
    "else:\n",
    "    print(\"'好吃' 或 '美味' 不在词典中，无法计算相似度。\")\n",
    "\n",
    "if '好吃' in model.wv and '蟑螂' in model.wv:\n",
    "    sim2 = model.wv.similarity('好吃', '蟑螂')\n",
    "    print(\"“好吃”和“蟑螂”的相似度：\", sim2)\n",
    "else:\n",
    "    print(\"'好吃' 或 '蟑螂' 不在词典中，无法计算相似度。\")"
   ]
  },
  {
   "cell_type": "code",
   "execution_count": 10,
   "id": "fa77e116",
   "metadata": {},
   "outputs": [
    {
     "name": "stdout",
     "output_type": "stream",
     "text": [
      "词语 ['餐厅', '聚会', '安静'] 不在词典中，无法进行向量运算。\n"
     ]
    }
   ],
   "source": [
    "words = ['餐厅', '聚会', '安静']\n",
    "if all(word in model.wv for word in words):\n",
    "    result = model.wv.most_similar(positive=['餐厅', '聚会'], negative=['安静'], topn=1)\n",
    "    print(\"运算结果：\", result[0][0])\n",
    "else:\n",
    "    missing_words = [word for word in words if word not in model.wv]\n",
    "    print(f\"词语 {missing_words} 不在词典中，无法进行向量运算。\")"
   ]
  },
  {
   "cell_type": "code",
   "execution_count": null,
   "id": "41e122f6",
   "metadata": {},
   "outputs": [],
   "source": []
  }
 ],
 "metadata": {
  "kernelspec": {
   "display_name": "Python 3 (ipykernel)",
   "language": "python",
   "name": "python3"
  },
  "language_info": {
   "codemirror_mode": {
    "name": "ipython",
    "version": 3
   },
   "file_extension": ".py",
   "mimetype": "text/x-python",
   "name": "python",
   "nbconvert_exporter": "python",
   "pygments_lexer": "ipython3",
   "version": "3.9.12"
  }
 },
 "nbformat": 4,
 "nbformat_minor": 5
}
